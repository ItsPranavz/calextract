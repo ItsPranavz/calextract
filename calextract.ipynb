{
  "nbformat": 4,
  "nbformat_minor": 0,
  "metadata": {
    "colab": {
      "provenance": []
    },
    "kernelspec": {
      "name": "python3",
      "display_name": "Python 3"
    },
    "language_info": {
      "name": "python"
    }
  },
  "cells": [
    {
      "cell_type": "code",
      "execution_count": 1,
      "metadata": {
        "id": "C0vuz71qzNKo"
      },
      "outputs": [],
      "source": [
        "import datetime\n",
        "from google.oauth2 import service_account\n",
        "from googleapiclient.discovery import build"
      ]
    },
    {
      "cell_type": "code",
      "source": [
        "SCOPES = ['https://www.googleapis.com/auth/calendar.readonly']\n",
        "SERVICE_ACCOUNT_FILE = 'your service account file path goes here'\n",
        "CALENDAR_ID = 'your calendar id goes here'"
      ],
      "metadata": {
        "id": "2qtdQPAnzplh"
      },
      "execution_count": 2,
      "outputs": []
    },
    {
      "cell_type": "code",
      "source": [
        "def get_calendar_events(date):\n",
        "    credentials = service_account.Credentials.from_service_account_file(SERVICE_ACCOUNT_FILE, scopes=SCOPES)\n",
        "    service = build('calendar', 'v3', credentials=credentials)\n",
        "    start_date = datetime.datetime.combine(date, datetime.time.min).isoformat() + 'Z'\n",
        "    end_date = datetime.datetime.combine(date, datetime.time.max).isoformat() + 'Z'\n",
        "    events_result = service.events().list(calendarId=CALENDAR_ID, timeMin=start_date, timeMax=end_date, singleEvents=True,orderBy='startTime').execute()\n",
        "    events = events_result.get('items', [])\n",
        "    if not events:\n",
        "        print('No events found for this day.')\n",
        "    else:\n",
        "        print(f'Please note timetable for *{date}* :')\n",
        "        for event in events:\n",
        "            start_time = event['start'].get('dateTime', event['start'].get('date'))\n",
        "            start_time = datetime.datetime.fromisoformat(start_time)\n",
        "            end_time = event['end'].get('dateTime', event['end'].get('date'))\n",
        "            end_time = datetime.datetime.fromisoformat(end_time)\n",
        "            description = event['description'] if 'description' in event else ''\n",
        "            print(f'\\n*{start_time.strftime(\"%I:%M %p\")} - {end_time.strftime(\"%I:%M %p\")}*\\n{description}')"
      ],
      "metadata": {
        "id": "j7Ey4xmCzqu9"
      },
      "execution_count": 44,
      "outputs": []
    },
    {
      "cell_type": "code",
      "source": [
        "date = datetime.date(2023, 4, 10)\n",
        "get_calendar_events(date)"
      ],
      "metadata": {
        "colab": {
          "base_uri": "https://localhost:8080/"
        },
        "id": "k2WcXipe1zM1",
        "outputId": "1fcb5bc0-8757-44af-9e91-5fc11d076951"
      },
      "execution_count": 45,
      "outputs": [
        {
          "output_type": "stream",
          "name": "stdout",
          "text": [
            "Please note timetable for *2023-04-10* :\n",
            "\n",
            "*10:00 AM - 12:00 PM*\n",
            "Subject - Physics Practical\n",
            "Groups - CS1, CS2 only\n",
            "Venue - Physics Lab\n",
            "\n",
            "*10:00 AM - 12:00 PM*\n",
            "Subject - Mechatronics Practical\n",
            "Groups - CS3 only\n",
            "Venue - Mecha Lab\n",
            "\n",
            "*12:00 PM - 01:00 PM*\n",
            "Subject - Math Lecture\n",
            "Groups - CS1, CS2, CS3\n",
            "Venue - L26\n",
            "\n",
            "*02:00 PM - 03:00 PM*\n",
            "Subject - Environment Lecture\n",
            "Groups - CS1, CS2, CS3\n",
            "Venue - L27\n",
            "\n",
            "*03:00 PM - 04:00 PM*\n",
            "Subject - Mechatronics Lecture\n",
            "Groups - CS1, CS2, CS3\n",
            "Venue - L27\n",
            "\n",
            "*04:00 PM - 04:30 PM*\n",
            "Subject - Math Lecture\n",
            "Groups - CS1, CS2, CS3\n",
            "Venue - L28\n"
          ]
        }
      ]
    }
  ]
}